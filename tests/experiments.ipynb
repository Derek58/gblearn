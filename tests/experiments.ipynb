{
 "cells": [
  {
   "cell_type": "markdown",
   "metadata": {},
   "source": [
    "# Tinkering and Experimentation\n",
    "\n",
    "This notebook helps debug the code base and generate model outputs for the unit tests."
   ]
  },
  {
   "cell_type": "code",
   "execution_count": null,
   "metadata": {
    "collapsed": false
   },
   "outputs": [],
   "source": [
    "%load_ext autoreload\n",
    "%autoreload 2"
   ]
  },
  {
   "cell_type": "code",
   "execution_count": null,
   "metadata": {
    "collapsed": false
   },
   "outputs": [],
   "source": [
    "import gblearn\n",
    "import numpy as np\n",
    "from gblearn.elements import atoms"
   ]
  },
  {
   "cell_type": "code",
   "execution_count": null,
   "metadata": {
    "collapsed": true
   },
   "outputs": [],
   "source": [
    "Ni = atoms(\"Ni\")\n",
    "Mg = atoms(\"Mg\")\n",
    "Cr = atoms(\"Cr\")"
   ]
  },
  {
   "cell_type": "markdown",
   "metadata": {},
   "source": [
    "Model outputs for atomic positions, shells and SOAP vectors."
   ]
  },
  {
   "cell_type": "code",
   "execution_count": null,
   "metadata": {
    "collapsed": false
   },
   "outputs": [],
   "source": [
    "import numpy as np\n",
    "np.save(\"elements/Ni.positions.npy\", Ni.positions)\n",
    "np.save(\"elements/Mg.positions.npy\", Mg.positions)\n",
    "np.save(\"elements/Cr.positions.npy\", Cr.positions)"
   ]
  },
  {
   "cell_type": "code",
   "execution_count": null,
   "metadata": {
    "collapsed": false
   },
   "outputs": [],
   "source": [
    "#I verified these against this list that was produced by the structures.ipynb function shells.\n",
    "from gblearn.elements import shells\n",
    "np.save(\"elements/Ni.shells.npy\", shells(\"Ni\"))\n",
    "np.save(\"elements/Mg.shells.npy\", shells(\"Mg\"))\n",
    "np.save(\"elements/Cr.shells.npy\", shells(\"Cr\"))\n",
    "\n",
    "#Ni: [2.4890158697766469, 3.52, 4.312, 4.9780317395532947, 5.56512]\n",
    "#Cr: [2.5201339250127166, 2.91, 4.115361466505707, 4.82478, 5.04012, 5.82]\n",
    "#Mg: [3.52, 4.978031739553294, 5.74813592973119]"
   ]
  },
  {
   "cell_type": "code",
   "execution_count": null,
   "metadata": {
    "collapsed": false
   },
   "outputs": [],
   "source": [
    "from gblearn.elements import pissnnl\n",
    "#We will just use the all default SOAP vector parameters for the elements.\n",
    "elements = [\"Ni\", \"Cr\", \"Mg\"]\n",
    "for e in elements:\n",
    "    for i, dZ in enumerate(pissnnl(e)):\n",
    "        np.save(\"elements/{}.pissnnl_{}.npy\".format(e, i), dZ)\n",
    "        \n",
    "#I confirmed these visually using the structures.ipynb get_element_P function result."
   ]
  },
  {
   "cell_type": "code",
   "execution_count": null,
   "metadata": {
    "collapsed": false
   },
   "outputs": [],
   "source": [
    "from gblearn.decomposition import fcut\n",
    "r = np.linspace(0, 7, 100)\n",
    "fc = fcut(r, 6, 0.5)\n",
    "# I visually verified this result with a plot below.\n",
    "np.save(\"decomp/r.npy\", r)\n",
    "np.save(\"decomp/fcut.npy\", fc)"
   ]
  },
  {
   "cell_type": "code",
   "execution_count": null,
   "metadata": {
    "collapsed": false
   },
   "outputs": [],
   "source": [
    "plt.plot(r, fc)"
   ]
  },
  {
   "cell_type": "code",
   "execution_count": null,
   "metadata": {
    "collapsed": false
   },
   "outputs": [],
   "source": [
    "import matplotlib.pyplot as plt\n",
    "import matplotlib.pylab as pylab\n",
    "%pylab notebook\n",
    "pylab.rcParams['figure.figsize'] = (10, 6)"
   ]
  },
  {
   "cell_type": "code",
   "execution_count": null,
   "metadata": {
    "collapsed": true
   },
   "outputs": [],
   "source": [
    "with open(\"decomp/dFCC.pkl\", 'rb') as f:\n",
    "    mFCC = load(f)"
   ]
  },
  {
   "cell_type": "code",
   "execution_count": null,
   "metadata": {
    "collapsed": false
   },
   "outputs": [],
   "source": [
    "from gblearn.decomposition import SOAPDecomposer, SOAPVector\n",
    "from gblearn.elements import pissnnl\n",
    "dec = SOAPDecomposer()\n",
    "vFCC = SOAPVector(pissnnl(\"Ni\")[0], dec)"
   ]
  },
  {
   "cell_type": "code",
   "execution_count": null,
   "metadata": {
    "collapsed": false
   },
   "outputs": [],
   "source": [
    "NiRDF, NiRDF0 = vFCC.RDF(r), vFCC.RDF(r, True)"
   ]
  },
  {
   "cell_type": "code",
   "execution_count": null,
   "metadata": {
    "collapsed": true
   },
   "outputs": [],
   "source": [
    "plt.plot(r, NiRDF)\n",
    "plt.plot(r, NiRDF0)"
   ]
  },
  {
   "cell_type": "code",
   "execution_count": null,
   "metadata": {
    "collapsed": true
   },
   "outputs": [],
   "source": [
    "from gblearn.base import set_nprocs\n",
    "set_nprocs(4)"
   ]
  },
  {
   "cell_type": "code",
   "execution_count": null,
   "metadata": {
    "collapsed": false
   },
   "outputs": [],
   "source": [
    "import numpy as np\n",
    "from gblearn.decomposition import SOAPVectorCollection\n",
    "GBs = np.load(\"../pissnnl/pissnnl.npy\")\n",
    "SVC = SOAPVectorCollection(GBs, rcut=5.0, lmax=18, nmax=18)\n",
    "#Get a subset of the vectors into a new collection.\n",
    "sub = SVC[0:4]    \n",
    "#Now construct the unique RDFs for this collection.\n",
    "RDFs = sub.RDFs()\n"
   ]
  },
  {
   "cell_type": "code",
   "execution_count": null,
   "metadata": {
    "collapsed": false
   },
   "outputs": [],
   "source": [
    "v0 = sub[0]\n",
    "v0.RDF(np.linspace(0, 6, 75))\n",
    "v0.ADF(np.linspace(0, np.pi, 100))"
   ]
  },
  {
   "cell_type": "code",
   "execution_count": null,
   "metadata": {
    "collapsed": true
   },
   "outputs": [],
   "source": [
    "v0.save(\"v0.pkl\")"
   ]
  },
  {
   "cell_type": "code",
   "execution_count": null,
   "metadata": {
    "collapsed": true
   },
   "outputs": [],
   "source": [
    "from gblearn.decomposition import SOAPVector\n",
    "rv0 = SOAPVector.from_file(\"v0.pkl\")"
   ]
  },
  {
   "cell_type": "code",
   "execution_count": null,
   "metadata": {
    "collapsed": false
   },
   "outputs": [],
   "source": [
    "rv0 == v0"
   ]
  },
  {
   "cell_type": "code",
   "execution_count": null,
   "metadata": {
    "collapsed": false
   },
   "outputs": [],
   "source": [
    "rv0.equal(v0)"
   ]
  },
  {
   "cell_type": "code",
   "execution_count": null,
   "metadata": {
    "collapsed": false
   },
   "outputs": [],
   "source": [
    "np.allclose(v0.nRDF.df, rv0.nRDF.df)"
   ]
  },
  {
   "cell_type": "code",
   "execution_count": null,
   "metadata": {
    "collapsed": false
   },
   "outputs": [],
   "source": [
    "ADFs = sub.ADFs()"
   ]
  },
  {
   "cell_type": "code",
   "execution_count": null,
   "metadata": {
    "collapsed": false
   },
   "outputs": [],
   "source": [
    "ADFs[0].plot()"
   ]
  },
  {
   "cell_type": "code",
   "execution_count": null,
   "metadata": {
    "collapsed": false
   },
   "outputs": [],
   "source": [
    "from gblearn.decomposition import RDFCollection\n",
    "uRDF = RDFCollection.from_file(\"../RDFs/P0-11_sm.pkl\")\n"
   ]
  },
  {
   "cell_type": "code",
   "execution_count": null,
   "metadata": {
    "collapsed": false
   },
   "outputs": [],
   "source": [
    "uRDF==RDFs"
   ]
  },
  {
   "cell_type": "code",
   "execution_count": null,
   "metadata": {
    "collapsed": true
   },
   "outputs": [],
   "source": [
    "from gblearn.decomposition import SOAPDecomposer, SOAPVector\n",
    "from cPickle import load\n",
    "with open(\"decomp/dFCC.pkl\", 'rb') as f:\n",
    "    mFCC = load(f)\n"
   ]
  },
  {
   "cell_type": "code",
   "execution_count": null,
   "metadata": {
    "collapsed": true
   },
   "outputs": [],
   "source": [
    "from gblearn.elements import pissnnl\n",
    "FCC = pissnnl(\"Ni\")\n",
    "d = SOAPDecomposer()"
   ]
  },
  {
   "cell_type": "code",
   "execution_count": null,
   "metadata": {
    "collapsed": true
   },
   "outputs": [],
   "source": [
    "NiP = np.load(\"elements/Ni.pissnnl_0.npy\")"
   ]
  },
  {
   "cell_type": "code",
   "execution_count": null,
   "metadata": {
    "collapsed": false
   },
   "outputs": [],
   "source": [
    "NiP-FCC[0]"
   ]
  },
  {
   "cell_type": "code",
   "execution_count": null,
   "metadata": {
    "collapsed": false
   },
   "outputs": [],
   "source": [
    "FCC[0].shape"
   ]
  },
  {
   "cell_type": "code",
   "execution_count": null,
   "metadata": {
    "collapsed": true
   },
   "outputs": [],
   "source": [
    "import numpy as np"
   ]
  },
  {
   "cell_type": "code",
   "execution_count": null,
   "metadata": {
    "collapsed": false
   },
   "outputs": [],
   "source": [
    "rx = np.load(\"decomp/r.npy\")\n",
    "vFCC = SOAPVector(FCC[0], d)\n",
    "ax = vFCC.RDF(rx).plot(title=\"Unit test plot\", xlabel=\"Radial\",\n",
    "                      ylabel=\"Distribution\")\n"
   ]
  },
  {
   "cell_type": "code",
   "execution_count": null,
   "metadata": {
    "collapsed": true
   },
   "outputs": [],
   "source": [
    "v0=SVC[0]"
   ]
  },
  {
   "cell_type": "code",
   "execution_count": null,
   "metadata": {
    "collapsed": false
   },
   "outputs": [],
   "source": [
    "v0.RDF(np.linspace(0,6.,75))"
   ]
  },
  {
   "cell_type": "code",
   "execution_count": null,
   "metadata": {
    "collapsed": false
   },
   "outputs": [],
   "source": [
    "SVC[0].RDF(np.linspace(0,6.,75))"
   ]
  },
  {
   "cell_type": "code",
   "execution_count": null,
   "metadata": {
    "collapsed": false
   },
   "outputs": [],
   "source": [
    "RDFs.save(\"../RDFs/P0-11_sm.pkl\", withdP=False)"
   ]
  },
  {
   "cell_type": "code",
   "execution_count": null,
   "metadata": {
    "collapsed": false
   },
   "outputs": [],
   "source": [
    "1e-3/uRDF[0].norm"
   ]
  },
  {
   "cell_type": "code",
   "execution_count": null,
   "metadata": {
    "collapsed": false
   },
   "outputs": [],
   "source": [
    "isinstance(uRDF, type(RDFs))"
   ]
  },
  {
   "cell_type": "code",
   "execution_count": null,
   "metadata": {
    "collapsed": false
   },
   "outputs": [],
   "source": [
    "uni=uRDF.refine(RDFs)\n",
    "uni.histogram()"
   ]
  },
  {
   "cell_type": "code",
   "execution_count": null,
   "metadata": {
    "collapsed": false
   },
   "outputs": [],
   "source": [
    "uRDF.plot(withavg=True)"
   ]
  },
  {
   "cell_type": "code",
   "execution_count": null,
   "metadata": {
    "collapsed": false
   },
   "outputs": [],
   "source": [
    "RDFs.plot(withavg=True)"
   ]
  },
  {
   "cell_type": "code",
   "execution_count": null,
   "metadata": {
    "collapsed": true
   },
   "outputs": [],
   "source": [
    "RDFs.unique"
   ]
  },
  {
   "cell_type": "code",
   "execution_count": null,
   "metadata": {
    "collapsed": false
   },
   "outputs": [],
   "source": [
    "sub.decomposer"
   ]
  },
  {
   "cell_type": "code",
   "execution_count": null,
   "metadata": {
    "collapsed": false
   },
   "outputs": [],
   "source": [
    "len(SVC)"
   ]
  },
  {
   "cell_type": "code",
   "execution_count": null,
   "metadata": {
    "collapsed": false
   },
   "outputs": [],
   "source": [
    "def a(*args):\n",
    "    print(args)"
   ]
  },
  {
   "cell_type": "code",
   "execution_count": null,
   "metadata": {
    "collapsed": true
   },
   "outputs": [],
   "source": []
  }
 ],
 "metadata": {
  "kernelspec": {
   "display_name": "Python 2",
   "language": "python",
   "name": "python2"
  },
  "language_info": {
   "codemirror_mode": {
    "name": "ipython",
    "version": 2
   },
   "file_extension": ".py",
   "mimetype": "text/x-python",
   "name": "python",
   "nbconvert_exporter": "python",
   "pygments_lexer": "ipython2",
   "version": "2.7.11"
  }
 },
 "nbformat": 4,
 "nbformat_minor": 0
}
