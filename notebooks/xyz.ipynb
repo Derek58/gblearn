{
 "cells": [
  {
   "cell_type": "markdown",
   "metadata": {},
   "source": [
    "# Running with `xyz` Grain Boundary Files\n",
    "\n",
    "The original `gblearn` package was designed to work with LAMMPS dump files. However, `xyz` files are good format to support as well. This notebook tests the implementation of the `xyz` parser/converter for GBs."
   ]
  },
  {
   "cell_type": "code",
   "execution_count": null,
   "metadata": {
    "collapsed": true
   },
   "outputs": [],
   "source": [
    "%load_ext autoreload\n",
    "%autoreload 2"
   ]
  },
  {
   "cell_type": "code",
   "execution_count": null,
   "metadata": {
    "collapsed": false
   },
   "outputs": [],
   "source": [
    "from gblearn.xyz import XYZParser\n",
    "from gblearn.gb import GrainBoundaryCollection as GBC\n",
    "from gblearn.gb import GrainBoundaryCollection as GBC"
   ]
  },
  {
   "cell_type": "code",
   "execution_count": null,
   "metadata": {
    "collapsed": false
   },
   "outputs": [],
   "source": [
    "im = GBC(\"imeall\", \"/Users/trunks/codes/gblearn-dist/tests/xyz/\", \n",
    "         \"/Users/trunks/temp/gblearn/\", \n",
    "         r\"^(?P<gbid>\\d+)_Dud.xyz$\",\n",
    "         rcut=3.25, lmax=12, nmax=12, sigma=0.5)"
   ]
  },
  {
   "cell_type": "code",
   "execution_count": null,
   "metadata": {
    "collapsed": false
   },
   "outputs": [],
   "source": [
    "im.load(XYZParser, Z=26, method=\"cna_z\", pattr=\"cna\", cna_val=3)"
   ]
  },
  {
   "cell_type": "code",
   "execution_count": null,
   "metadata": {
    "collapsed": false
   },
   "outputs": [],
   "source": [
    "im.soap()"
   ]
  },
  {
   "cell_type": "code",
   "execution_count": null,
   "metadata": {
    "collapsed": true
   },
   "outputs": [],
   "source": [
    "import quippy"
   ]
  },
  {
   "cell_type": "code",
   "execution_count": null,
   "metadata": {
    "collapsed": true
   },
   "outputs": [],
   "source": [
    "seedgb = quippy.Atoms(\"/Users/trunks/codes/gblearn-dist/tests/xyz/00110391110_Dud.xyz\")"
   ]
  },
  {
   "cell_type": "code",
   "execution_count": null,
   "metadata": {
    "collapsed": true
   },
   "outputs": [],
   "source": [
    "import numpy as np\n",
    "positions = np.array(seedgb.pos.T)"
   ]
  },
  {
   "cell_type": "code",
   "execution_count": null,
   "metadata": {
    "collapsed": false
   },
   "outputs": [],
   "source": [
    "zm = np.logical_and(positions[:,2] > 55, positions[:,2] < 65)\n",
    "ym = np.logical_and(positions[:,1] > 25, positions[:,1] < 35)\n",
    "cm = np.logical_and(zm, ym)"
   ]
  },
  {
   "cell_type": "code",
   "execution_count": null,
   "metadata": {
    "collapsed": true
   },
   "outputs": [],
   "source": [
    "indices = np.where(cm)"
   ]
  },
  {
   "cell_type": "code",
   "execution_count": null,
   "metadata": {
    "collapsed": false
   },
   "outputs": [],
   "source": [
    "subseed = seedgb[indices]"
   ]
  },
  {
   "cell_type": "code",
   "execution_count": null,
   "metadata": {
    "collapsed": true
   },
   "outputs": [],
   "source": [
    "subseed.write(\"/Users/trunks/temp/seed.xyz\")"
   ]
  },
  {
   "cell_type": "code",
   "execution_count": null,
   "metadata": {
    "collapsed": false
   },
   "outputs": [],
   "source": [
    "selected = positions[cm,:]"
   ]
  },
  {
   "cell_type": "code",
   "execution_count": null,
   "metadata": {
    "collapsed": false
   },
   "outputs": [],
   "source": [
    "xl, yl, zl = [(np.min(selected[:,i]), np.max(selected[:,i])) for i in range(3)]"
   ]
  },
  {
   "cell_type": "code",
   "execution_count": null,
   "metadata": {
    "collapsed": false
   },
   "outputs": [],
   "source": [
    "xl[1]-16.98"
   ]
  },
  {
   "cell_type": "code",
   "execution_count": null,
   "metadata": {
    "collapsed": false
   },
   "outputs": [],
   "source": [
    "subseed.positions[:,1] -= yl[0]\n",
    "subseed.positions[:,2] -= zl[0]"
   ]
  },
  {
   "cell_type": "code",
   "execution_count": null,
   "metadata": {
    "collapsed": false
   },
   "outputs": [],
   "source": [
    "subseed.lattice"
   ]
  },
  {
   "cell_type": "code",
   "execution_count": null,
   "metadata": {
    "collapsed": false
   },
   "outputs": [],
   "source": [
    "subseed.lattice = np.array([[ 16.98      ,   0.        ,   0.        ],\n",
    "                            [0,yl[1]-yl[0],0],\n",
    "                            [0,0,zl[1]-zl[0]]])"
   ]
  },
  {
   "cell_type": "code",
   "execution_count": null,
   "metadata": {
    "collapsed": false
   },
   "outputs": [],
   "source": [
    "from gblearn.soap import SOAPCalculator\n",
    "calc = SOAPCalculator(rcut=3.25)\n",
    "Pseed = calc.calc(subseed, 26)[\"descriptor\"]"
   ]
  },
  {
   "cell_type": "code",
   "execution_count": null,
   "metadata": {
    "collapsed": true
   },
   "outputs": [],
   "source": [
    "positions = subseed.positions\n",
    "zmi = np.logical_and(positions[:,2] > 59-zl[0], positions[:,2] < 61-zl[0])\n",
    "ymi = np.logical_and(positions[:,1] > 29-yl[0], positions[:,1] < 31-yl[0])\n",
    "cmi = np.logical_and(zmi, ymi)"
   ]
  },
  {
   "cell_type": "code",
   "execution_count": null,
   "metadata": {
    "collapsed": false
   },
   "outputs": [],
   "source": [
    "seedsoap = np.where(cmi)[0]\n",
    "seedsoap"
   ]
  },
  {
   "cell_type": "code",
   "execution_count": null,
   "metadata": {
    "collapsed": false
   },
   "outputs": [],
   "source": [
    "Pi = Pseed[seedsoap,:]"
   ]
  },
  {
   "cell_type": "code",
   "execution_count": null,
   "metadata": {
    "collapsed": false
   },
   "outputs": [],
   "source": [
    "[np.max(np.abs(Pi[0,:]-Pi[i,:])) for i in range(1, len(Pi))]"
   ]
  },
  {
   "cell_type": "code",
   "execution_count": null,
   "metadata": {
    "collapsed": false
   },
   "outputs": [],
   "source": [
    "alphafe = Pi[0,:]"
   ]
  },
  {
   "cell_type": "code",
   "execution_count": null,
   "metadata": {
    "collapsed": false
   },
   "outputs": [],
   "source": [
    "np.save(\"/Users/trunks/codes/gblearn-dist/tests/xyz/alpha_fe.npy\", alphafe)"
   ]
  },
  {
   "cell_type": "code",
   "execution_count": null,
   "metadata": {
    "collapsed": true
   },
   "outputs": [],
   "source": []
  }
 ],
 "metadata": {
  "kernelspec": {
   "display_name": "Python 2",
   "language": "python",
   "name": "python2"
  },
  "language_info": {
   "codemirror_mode": {
    "name": "ipython",
    "version": 2
   },
   "file_extension": ".py",
   "mimetype": "text/x-python",
   "name": "python",
   "nbconvert_exporter": "python",
   "pygments_lexer": "ipython2",
   "version": "2.7.11"
  }
 },
 "nbformat": 4,
 "nbformat_minor": 0
}
